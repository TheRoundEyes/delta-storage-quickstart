{
 "cells": [
  {
   "cell_type": "code",
   "execution_count": 1,
   "metadata": {},
   "outputs": [],
   "source": [
    "import pandas as pd\n",
    "import requests"
   ]
  },
  {
   "cell_type": "code",
   "execution_count": 2,
   "metadata": {},
   "outputs": [
    {
     "ename": "NameError",
     "evalue": "name 'orderDetails' is not defined",
     "output_type": "error",
     "traceback": [
      "\u001b[0;31m---------------------------------------------------------------------------\u001b[0m",
      "\u001b[0;31mNameError\u001b[0m                                 Traceback (most recent call last)",
      "\u001b[1;32m/Users/theroundeyes/Documents/GitHub/delta-storage-quickstart/data-warehouse/Data Transformation.ipynb Cell 2\u001b[0m line \u001b[0;36m1\n\u001b[0;32m----> <a href='vscode-notebook-cell:/Users/theroundeyes/Documents/GitHub/delta-storage-quickstart/data-warehouse/Data%20Transformation.ipynb#W1sZmlsZQ%3D%3D?line=0'>1</a>\u001b[0m orderDetails \u001b[39m=\u001b[39m orderDetails\u001b[39m.\u001b[39mmerge(orders, on\u001b[39m=\u001b[39m[\u001b[39m'\u001b[39m\u001b[39morderNumber\u001b[39m\u001b[39m'\u001b[39m], how\u001b[39m=\u001b[39m\u001b[39m'\u001b[39m\u001b[39mleft\u001b[39m\u001b[39m'\u001b[39m)\n\u001b[1;32m      <a href='vscode-notebook-cell:/Users/theroundeyes/Documents/GitHub/delta-storage-quickstart/data-warehouse/Data%20Transformation.ipynb#W1sZmlsZQ%3D%3D?line=1'>2</a>\u001b[0m orderDetails \u001b[39m=\u001b[39m orderDetails[[\u001b[39m'\u001b[39m\u001b[39morderNumber\u001b[39m\u001b[39m'\u001b[39m,\u001b[39m'\u001b[39m\u001b[39mcustomerNumber\u001b[39m\u001b[39m'\u001b[39m,\u001b[39m'\u001b[39m\u001b[39mproductCode\u001b[39m\u001b[39m'\u001b[39m,\u001b[39m'\u001b[39m\u001b[39mquantityOrdered\u001b[39m\u001b[39m'\u001b[39m,\u001b[39m'\u001b[39m\u001b[39mpriceEach\u001b[39m\u001b[39m'\u001b[39m]]\n\u001b[1;32m      <a href='vscode-notebook-cell:/Users/theroundeyes/Documents/GitHub/delta-storage-quickstart/data-warehouse/Data%20Transformation.ipynb#W1sZmlsZQ%3D%3D?line=2'>3</a>\u001b[0m orderDetails\n",
      "\u001b[0;31mNameError\u001b[0m: name 'orderDetails' is not defined"
     ]
    }
   ],
   "source": [
    "orderDetails = orderDetails.merge(orders, on=['orderNumber'], how='left')\n",
    "orderDetails = orderDetails[['orderNumber','customerNumber','productCode','quantityOrdered','priceEach']]\n",
    "orderDetails"
   ]
  },
  {
   "cell_type": "code",
   "execution_count": null,
   "metadata": {},
   "outputs": [],
   "source": [
    "payments_from_customer = orders.merge(payments, on=['customerNumber'], how='left')\n",
    "payments_from_customer"
   ]
  }
 ],
 "metadata": {
  "kernelspec": {
   "display_name": "Python 3",
   "language": "python",
   "name": "python3"
  },
  "language_info": {
   "codemirror_mode": {
    "name": "ipython",
    "version": 3
   },
   "file_extension": ".py",
   "mimetype": "text/x-python",
   "name": "python",
   "nbconvert_exporter": "python",
   "pygments_lexer": "ipython3",
   "version": "3.11.0"
  }
 },
 "nbformat": 4,
 "nbformat_minor": 2
}
